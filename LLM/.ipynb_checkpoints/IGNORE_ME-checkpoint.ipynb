{
 "cells": [
  {
   "cell_type": "code",
   "execution_count": 1,
   "id": "98afb285-2230-4214-867c-daa2c8a954fb",
   "metadata": {},
   "outputs": [
    {
     "data": {
      "text/plain": [
       "True"
      ]
     },
     "execution_count": 1,
     "metadata": {},
     "output_type": "execute_result"
    }
   ],
   "source": [
    "import os\n",
    "from dotenv import load_dotenv\n",
    "from langchain_openai import ChatOpenAI\n",
    "from langchain_core.output_parsers import JsonOutputParser\n",
    "from langchain_core.prompts import PromptTemplate\n",
    "from pydantic import BaseModel, Field\n",
    "\n",
    "load_dotenv()\n"
   ]
  },
  {
   "cell_type": "code",
   "execution_count": 4,
   "id": "d270e5c0-d1fb-4cbf-a8f1-2e3dcb8677e6",
   "metadata": {},
   "outputs": [],
   "source": [
    "# 定义系统提示和用户提示\n",
    "system_prompt = \"\"\"You are the AWS Lambda expert. You have to generate AWS Lambda codes with Python 3.11. \n",
    "When I ask you question, you have to provide 1. AWS Lambda codes and 2. requirements.txt which includes all necessary python libraries.\n",
    "Output format is :\n",
    "------------------------------\n",
    "{{AWS Lambda codes}}\n",
    "------------------------------\n",
    "{{requirements.txt}}\n",
    "------------------------------\n",
    "\"\"\"\n",
    "\n",
    "user_prompt = \"\"\"Please grab the stock market opening price of the previous trading day according to TAIEX URL: \n",
    "https://www.twse.com.tw/indicesReport/MI_5MINS_HIST?response=json\"\"\"\n",
    "\n",
    "class LambdaCodes(BaseModel):\n",
    "    codes: str = Field(description=\"AWS Lambda codes that can solve user's questions.\")\n",
    "    requirements_txt: str = Field(description=\"requirements.txt which includes all necessary python libraries use in AWS lambda codes.\")"
   ]
  },
  {
   "cell_type": "code",
   "execution_count": 5,
   "id": "19ed7b3c-d825-496c-94b0-8dee3ecd06bf",
   "metadata": {},
   "outputs": [
    {
     "data": {
      "text/plain": [
       "{'codes': \"import requests\\n\\nurl = 'https://www.twse.com.tw/indicesReport/MI_5MINS_HIST?response=json'\\nresponse = requests.get(url)\\ndata = response.json()\\nopening_price = data['data'][0]['z']\\nprint(opening_price)\",\n",
       " 'requirements_txt': 'requests'}"
      ]
     },
     "execution_count": 5,
     "metadata": {},
     "output_type": "execute_result"
    }
   ],
   "source": [
    "llm = ChatOpenAI(model=\"gpt-3.5-turbo\", temperature=0)\n",
    "\n",
    "# Set up a parser + inject instructions into the prompt template.\n",
    "parser = JsonOutputParser(pydantic_object=LambdaCodes)\n",
    "\n",
    "prompt = PromptTemplate(\n",
    "    template=\"Answer the user question.\\n{format_instructions}\\n{query}\\n\",\n",
    "    input_variables=[\"query\"],\n",
    "    partial_variables={\"format_instructions\": parser.get_format_instructions()},\n",
    ")\n",
    "\n",
    "chain = prompt | llm | parser\n",
    "\n",
    "chain.invoke({\"query\": user_prompt})"
   ]
  },
  {
   "cell_type": "code",
   "execution_count": 10,
   "id": "5dd25e4b-add9-4df3-b698-6f906d11dd6b",
   "metadata": {},
   "outputs": [
    {
     "data": {
      "text/plain": [
       "StrOutputParser()"
      ]
     },
     "execution_count": 10,
     "metadata": {},
     "output_type": "execute_result"
    }
   ],
   "source": [
    "output_parser"
   ]
  },
  {
   "cell_type": "code",
   "execution_count": null,
   "id": "37eb10a0-faa5-414d-a55d-b679fc4ab3a8",
   "metadata": {},
   "outputs": [],
   "source": []
  }
 ],
 "metadata": {
  "kernelspec": {
   "display_name": "Python 3 (ipykernel)",
   "language": "python",
   "name": "python3"
  },
  "language_info": {
   "codemirror_mode": {
    "name": "ipython",
    "version": 3
   },
   "file_extension": ".py",
   "mimetype": "text/x-python",
   "name": "python",
   "nbconvert_exporter": "python",
   "pygments_lexer": "ipython3",
   "version": "3.9.16"
  }
 },
 "nbformat": 4,
 "nbformat_minor": 5
}
