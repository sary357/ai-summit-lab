{
 "cells": [
  {
   "cell_type": "code",
   "execution_count": 6,
   "id": "b0531df2-43cb-49b6-a789-8e3e1229353c",
   "metadata": {},
   "outputs": [
    {
     "name": "stdout",
     "output_type": "stream",
     "text": [
      "Using version \u001b[39;1m^0.2.60\u001b[39;22m for \u001b[36mlanggraph\u001b[39m\n",
      "\n",
      "\u001b[34mUpdating dependencies\u001b[39m\n",
      "\u001b[2K\u001b[34mResolving dependencies...\u001b[39m \u001b[39;2m(10.3s)\u001b[39;22m[34mResolving dependencies...\u001b[39m \u001b[39;2m(1.3s)\u001b[39;22m\u001b[34mResolving dependencies...\u001b[39m \u001b[39;2m(4.3s)\u001b[39;22m\u001b[34mResolving dependencies...\u001b[39m \u001b[39;2m(9.5s)\u001b[39;22m\n",
      "\n",
      "\u001b[39;1mPackage operations\u001b[39;22m: \u001b[34m4\u001b[39m installs, \u001b[34m1\u001b[39m update, \u001b[34m0\u001b[39m removals\n",
      "\n",
      "  \u001b[34;1m-\u001b[39;22m \u001b[39mUpdating \u001b[39m\u001b[36mlangchain-core\u001b[39m\u001b[39m (\u001b[39m\u001b[39;1m0.3.15\u001b[39;22m\u001b[39m -> \u001b[39m\u001b[39;1m0.3.28\u001b[39;22m\u001b[39m)\u001b[39m: \u001b[34mPending...\u001b[39m\n",
      "\u001b[1A\u001b[0J  \u001b[34;1m-\u001b[39;22m \u001b[39mUpdating \u001b[39m\u001b[36mlangchain-core\u001b[39m\u001b[39m (\u001b[39m\u001b[39;1m0.3.15\u001b[39;22m\u001b[39m -> \u001b[39m\u001b[39;1m0.3.28\u001b[39;22m\u001b[39m)\u001b[39m: \u001b[34mDownloading...\u001b[39m \u001b[39;1m0%\u001b[39;22m\n",
      "\u001b[1A\u001b[0J  \u001b[34;1m-\u001b[39;22m \u001b[39mUpdating \u001b[39m\u001b[36mlangchain-core\u001b[39m\u001b[39m (\u001b[39m\u001b[39;1m0.3.15\u001b[39;22m\u001b[39m -> \u001b[39m\u001b[39;1m0.3.28\u001b[39;22m\u001b[39m)\u001b[39m: \u001b[34mDownloading...\u001b[39m \u001b[39;1m100%\u001b[39;22m\n",
      "\u001b[1A\u001b[0J  \u001b[34;1m-\u001b[39;22m \u001b[39mUpdating \u001b[39m\u001b[36mlangchain-core\u001b[39m\u001b[39m (\u001b[39m\u001b[39;1m0.3.15\u001b[39;22m\u001b[39m -> \u001b[39m\u001b[39;1m0.3.28\u001b[39;22m\u001b[39m)\u001b[39m: \u001b[34mInstalling...\u001b[39m\n",
      "\u001b[1A\u001b[0J  \u001b[32;1m-\u001b[39;22m \u001b[39mUpdating \u001b[39m\u001b[36mlangchain-core\u001b[39m\u001b[39m (\u001b[39m\u001b[39;1m0.3.15\u001b[39;22m\u001b[39m -> \u001b[39m\u001b[32m0.3.28\u001b[39m\u001b[39m)\u001b[39m\n",
      "  \u001b[34;1m-\u001b[39;22m \u001b[39mInstalling \u001b[39m\u001b[36mmsgpack\u001b[39m\u001b[39m (\u001b[39m\u001b[39;1m1.1.0\u001b[39;22m\u001b[39m)\u001b[39m: \u001b[34mPending...\u001b[39m\n",
      "\u001b[1A\u001b[0J  \u001b[34;1m-\u001b[39;22m \u001b[39mInstalling \u001b[39m\u001b[36mmsgpack\u001b[39m\u001b[39m (\u001b[39m\u001b[39;1m1.1.0\u001b[39;22m\u001b[39m)\u001b[39m: \u001b[34mInstalling...\u001b[39m\n",
      "\u001b[1A\u001b[0J  \u001b[32;1m-\u001b[39;22m \u001b[39mInstalling \u001b[39m\u001b[36mmsgpack\u001b[39m\u001b[39m (\u001b[39m\u001b[32m1.1.0\u001b[39m\u001b[39m)\u001b[39m\n",
      "  \u001b[34;1m-\u001b[39;22m \u001b[39mInstalling \u001b[39m\u001b[36mlanggraph-checkpoint\u001b[39m\u001b[39m (\u001b[39m\u001b[39;1m2.0.9\u001b[39;22m\u001b[39m)\u001b[39m: \u001b[34mPending...\u001b[39m\n",
      "  \u001b[34;1m-\u001b[39;22m \u001b[39mInstalling \u001b[39m\u001b[36mlanggraph-sdk\u001b[39m\u001b[39m (\u001b[39m\u001b[39;1m0.1.48\u001b[39;22m\u001b[39m)\u001b[39m: \u001b[34mPending...\u001b[39m\n",
      "\u001b[1A\u001b[0J  \u001b[34;1m-\u001b[39;22m \u001b[39mInstalling \u001b[39m\u001b[36mlanggraph-sdk\u001b[39m\u001b[39m (\u001b[39m\u001b[39;1m0.1.48\u001b[39;22m\u001b[39m)\u001b[39m: \u001b[34mDownloading...\u001b[39m \u001b[39;1m0%\u001b[39;22m\n",
      "\u001b[1A\u001b[0J  \u001b[34;1m-\u001b[39;22m \u001b[39mInstalling \u001b[39m\u001b[36mlanggraph-sdk\u001b[39m\u001b[39m (\u001b[39m\u001b[39;1m0.1.48\u001b[39;22m\u001b[39m)\u001b[39m: \u001b[34mDownloading...\u001b[39m \u001b[39;1m100%\u001b[39;22m\n",
      "\u001b[1A\u001b[0J  \u001b[34;1m-\u001b[39;22m \u001b[39mInstalling \u001b[39m\u001b[36mlanggraph-sdk\u001b[39m\u001b[39m (\u001b[39m\u001b[39;1m0.1.48\u001b[39;22m\u001b[39m)\u001b[39m: \u001b[34mInstalling...\u001b[39m\n",
      "\u001b[2A\u001b[0J  \u001b[34;1m-\u001b[39;22m \u001b[39mInstalling \u001b[39m\u001b[36mlanggraph-sdk\u001b[39m\u001b[39m (\u001b[39m\u001b[39;1m0.1.48\u001b[39;22m\u001b[39m)\u001b[39m: \u001b[34mInstalling...\u001b[39m\n",
      "\u001b[1A\u001b[0J  \u001b[34;1m-\u001b[39;22m \u001b[39mInstalling \u001b[39m\u001b[36mlanggraph-checkpoint\u001b[39m\u001b[39m (\u001b[39m\u001b[39;1m2.0.9\u001b[39;22m\u001b[39m)\u001b[39m: \u001b[34mDownloading...\u001b[39m \u001b[39;1m0%\u001b[39;22m\n",
      "  \u001b[34;1m-\u001b[39;22m \u001b[39mInstalling \u001b[39m\u001b[36mlanggraph-sdk\u001b[39m\u001b[39m (\u001b[39m\u001b[39;1m0.1.48\u001b[39;22m\u001b[39m)\u001b[39m: \u001b[34mInstalling...\u001b[39m\n",
      "\u001b[1A\u001b[0J  \u001b[32;1m-\u001b[39;22m \u001b[39mInstalling \u001b[39m\u001b[36mlanggraph-sdk\u001b[39m\u001b[39m (\u001b[39m\u001b[32m0.1.48\u001b[39m\u001b[39m)\u001b[39m\n",
      "\u001b[2A\u001b[0J  \u001b[32;1m-\u001b[39;22m \u001b[39mInstalling \u001b[39m\u001b[36mlanggraph-sdk\u001b[39m\u001b[39m (\u001b[39m\u001b[32m0.1.48\u001b[39m\u001b[39m)\u001b[39m\n",
      "\u001b[1A\u001b[0J  \u001b[34;1m-\u001b[39;22m \u001b[39mInstalling \u001b[39m\u001b[36mlanggraph-checkpoint\u001b[39m\u001b[39m (\u001b[39m\u001b[39;1m2.0.9\u001b[39;22m\u001b[39m)\u001b[39m: \u001b[34mDownloading...\u001b[39m \u001b[39;1m100%\u001b[39;22m\n",
      "  \u001b[32;1m-\u001b[39;22m \u001b[39mInstalling \u001b[39m\u001b[36mlanggraph-sdk\u001b[39m\u001b[39m (\u001b[39m\u001b[32m0.1.48\u001b[39m\u001b[39m)\u001b[39m\n",
      "\u001b[2A\u001b[0J  \u001b[32;1m-\u001b[39;22m \u001b[39mInstalling \u001b[39m\u001b[36mlanggraph-sdk\u001b[39m\u001b[39m (\u001b[39m\u001b[32m0.1.48\u001b[39m\u001b[39m)\u001b[39m\n",
      "\u001b[1A\u001b[0J  \u001b[34;1m-\u001b[39;22m \u001b[39mInstalling \u001b[39m\u001b[36mlanggraph-checkpoint\u001b[39m\u001b[39m (\u001b[39m\u001b[39;1m2.0.9\u001b[39;22m\u001b[39m)\u001b[39m: \u001b[34mInstalling...\u001b[39m\n",
      "  \u001b[32;1m-\u001b[39;22m \u001b[39mInstalling \u001b[39m\u001b[36mlanggraph-sdk\u001b[39m\u001b[39m (\u001b[39m\u001b[32m0.1.48\u001b[39m\u001b[39m)\u001b[39m\n",
      "\u001b[2A\u001b[0J  \u001b[32;1m-\u001b[39;22m \u001b[39mInstalling \u001b[39m\u001b[36mlanggraph-sdk\u001b[39m\u001b[39m (\u001b[39m\u001b[32m0.1.48\u001b[39m\u001b[39m)\u001b[39m\n",
      "\u001b[1A\u001b[0J  \u001b[32;1m-\u001b[39;22m \u001b[39mInstalling \u001b[39m\u001b[36mlanggraph-checkpoint\u001b[39m\u001b[39m (\u001b[39m\u001b[32m2.0.9\u001b[39m\u001b[39m)\u001b[39m\n",
      "  \u001b[32;1m-\u001b[39;22m \u001b[39mInstalling \u001b[39m\u001b[36mlanggraph-sdk\u001b[39m\u001b[39m (\u001b[39m\u001b[32m0.1.48\u001b[39m\u001b[39m)\u001b[39m\n",
      "  \u001b[34;1m-\u001b[39;22m \u001b[39mInstalling \u001b[39m\u001b[36mlanggraph\u001b[39m\u001b[39m (\u001b[39m\u001b[39;1m0.2.60\u001b[39;22m\u001b[39m)\u001b[39m: \u001b[34mPending...\u001b[39m\n",
      "\u001b[1A\u001b[0J  \u001b[34;1m-\u001b[39;22m \u001b[39mInstalling \u001b[39m\u001b[36mlanggraph\u001b[39m\u001b[39m (\u001b[39m\u001b[39;1m0.2.60\u001b[39;22m\u001b[39m)\u001b[39m: \u001b[34mDownloading...\u001b[39m \u001b[39;1m0%\u001b[39;22m\n",
      "\u001b[1A\u001b[0J  \u001b[34;1m-\u001b[39;22m \u001b[39mInstalling \u001b[39m\u001b[36mlanggraph\u001b[39m\u001b[39m (\u001b[39m\u001b[39;1m0.2.60\u001b[39;22m\u001b[39m)\u001b[39m: \u001b[34mDownloading...\u001b[39m \u001b[39;1m100%\u001b[39;22m\n",
      "\u001b[1A\u001b[0J  \u001b[34;1m-\u001b[39;22m \u001b[39mInstalling \u001b[39m\u001b[36mlanggraph\u001b[39m\u001b[39m (\u001b[39m\u001b[39;1m0.2.60\u001b[39;22m\u001b[39m)\u001b[39m: \u001b[34mInstalling...\u001b[39m\n",
      "\u001b[1A\u001b[0J  \u001b[32;1m-\u001b[39;22m \u001b[39mInstalling \u001b[39m\u001b[36mlanggraph\u001b[39m\u001b[39m (\u001b[39m\u001b[32m0.2.60\u001b[39m\u001b[39m)\u001b[39m\n",
      "\n",
      "\u001b[34mWriting lock file\u001b[39m\n"
     ]
    }
   ],
   "source": [
    "!poetry add langgraph"
   ]
  },
  {
   "cell_type": "code",
   "execution_count": 1,
   "id": "7c4944c2-d6bf-4ff1-9ca7-3876723bf9d0",
   "metadata": {},
   "outputs": [
    {
     "data": {
      "text/plain": [
       "True"
      ]
     },
     "execution_count": 1,
     "metadata": {},
     "output_type": "execute_result"
    }
   ],
   "source": [
    "import os\n",
    "from dotenv import load_dotenv\n",
    "from langchain_openai import ChatOpenAI\n",
    "from langchain_core.tools import tool\n",
    "from langgraph.prebuilt import create_react_agent\n",
    "from typing import List, Dict\n",
    "load_dotenv()"
   ]
  },
  {
   "cell_type": "code",
   "execution_count": 2,
   "id": "7c8c21bb-7624-424b-9cd2-7e9aa5b11d55",
   "metadata": {},
   "outputs": [],
   "source": [
    "llm = ChatOpenAI(model=\"gpt-4o-mini\", temperature=0)"
   ]
  },
  {
   "cell_type": "code",
   "execution_count": 39,
   "id": "b3763e1e-5cd6-469f-94c5-024d507d77d8",
   "metadata": {},
   "outputs": [],
   "source": [
    "import requests\n",
    "\n",
    "@tool\n",
    "def submit_code(codes, requirements_txt=None):\n",
    "    \"\"\"This function submits code and requirements to external API which can accept AWS lambdda codes + the contant of requirements.txt and returns the job_id.\n",
    "  \n",
    "    Args:\n",
    "      codes: AWS lambda codes part\n",
    "      requrirements_txt: python package list needed in AWS lambda codes\n",
    "    Returns:\n",
    "      job_id: Job ID that API returns. the format is {\"job_id\":3}\n",
    "    \"\"\"\n",
    "    url = \"http://localhost:8081/v1/job_submission/\"\n",
    "    headers = {'accept': 'application/json', 'Content-Type': 'application/json'}\n",
    "    if requirements_txt:\n",
    "        data = {'codes': codes, 'requirements_txt': requirements_txt}\n",
    "    else:\n",
    "        data =  {'codes': codes}\n",
    "    response = requests.post(url, headers=headers, json=data)\n",
    "    response.raise_for_status() \n",
    "    return response.json()['job_id']\n",
    "\n",
    "@tool\n",
    "def get_job_output(job_id):\n",
    "    \"\"\"\n",
    "    this function query job output according to job_id. it may take several minutes to complete.\n",
    "\n",
    "    Args:\n",
    "      job_id: Job ID that submit_code returns\n",
    "    Returns:\n",
    "      return_string: this function return the API endpoint that we can call AWS lambda codes. empty string if any error happens\n",
    "    \"\"\"\n",
    "    import time\n",
    "    job_status=-1\n",
    "    url = \"http://localhost:8081/v1/job_info/\" + str(job_id)\n",
    "    print(url)\n",
    "    job_info={}\n",
    "    while job_status == -1 or job_status == 0 or job_status == 1 or job_status == 2: # 0: accepting 1: locking 2: executing\n",
    "        response = requests.get(url)\n",
    "        response.raise_for_status() \n",
    "        job_info = response.json()['job_info']\n",
    "        job_status = job_info['status']\n",
    "        endpoint=''\n",
    "        time.sleep(5)\n",
    "    if job_status == 3:\n",
    "        return requests.get(job_info['endpoint']).text\n",
    "    if job_status == 4:\n",
    "        return ''\n",
    "\n",
    "        "
   ]
  },
  {
   "cell_type": "code",
   "execution_count": 40,
   "id": "094e4bce-438c-4cc0-b2b2-8d8977aca81a",
   "metadata": {},
   "outputs": [],
   "source": [
    "def print_stream(stream):\n",
    "    for s in stream:\n",
    "        message = s[\"messages\"][-1]\n",
    "        if isinstance(message, tuple):\n",
    "            print(message)\n",
    "        else:\n",
    "            message.pretty_print()"
   ]
  },
  {
   "cell_type": "code",
   "execution_count": 41,
   "id": "097391bc-ac81-437c-9dd0-5a76c4784afb",
   "metadata": {},
   "outputs": [],
   "source": [
    "tools = [submit_code, get_job_output]"
   ]
  },
  {
   "cell_type": "code",
   "execution_count": 42,
   "id": "0b0e9404-984d-42aa-89e8-0f635bd18b47",
   "metadata": {},
   "outputs": [
    {
     "name": "stdout",
     "output_type": "stream",
     "text": [
      "================================\u001b[1m Human Message \u001b[0m=================================\n",
      "\n",
      "Please write AWS lambda codes which can calculate the largest prime number less than 100. The output format of this AWS lambda function should look like {\"statusCode\":200,\"body\":PRIME_NUMBER}\n",
      "==================================\u001b[1m Ai Message \u001b[0m==================================\n",
      "Tool Calls:\n",
      "  submit_code (call_Sfp3AzZ8htvnJOoJSYZoyobV)\n",
      " Call ID: call_Sfp3AzZ8htvnJOoJSYZoyobV\n",
      "  Args:\n",
      "    codes: import json\n",
      "\n",
      "def is_prime(n):\n",
      "    if n <= 1:\n",
      "        return False\n",
      "    for i in range(2, int(n**0.5) + 1):\n",
      "        if n % i == 0:\n",
      "            return False\n",
      "    return True\n",
      "\n",
      "def lambda_handler(event, context):\n",
      "    largest_prime = None\n",
      "    for num in range(99, 1, -1):\n",
      "        if is_prime(num):\n",
      "            largest_prime = num\n",
      "            break\n",
      "    return {\n",
      "        'statusCode': 200,\n",
      "        'body': largest_prime\n",
      "    }\n",
      "    requirements_txt: None\n",
      "=================================\u001b[1m Tool Message \u001b[0m=================================\n",
      "Name: submit_code\n",
      "\n",
      "9\n",
      "==================================\u001b[1m Ai Message \u001b[0m==================================\n",
      "Tool Calls:\n",
      "  get_job_output (call_EFPUypxb1xrcrer7dB7Yfu4C)\n",
      " Call ID: call_EFPUypxb1xrcrer7dB7Yfu4C\n",
      "  Args:\n",
      "    job_id: 9\n",
      "http://localhost:8081/v1/job_info/9\n",
      "=================================\u001b[1m Tool Message \u001b[0m=================================\n",
      "Name: get_job_output\n",
      "\n",
      "97\n",
      "==================================\u001b[1m Ai Message \u001b[0m==================================\n",
      "\n",
      "The AWS Lambda function has been successfully created, and it calculates the largest prime number less than 100. The output of the function will be:\n",
      "\n",
      "```json\n",
      "{\"statusCode\":200,\"body\":97}\n",
      "```\n"
     ]
    }
   ],
   "source": [
    "agent = create_react_agent(llm, tools=tools)\n",
    "inputs = {\"messages\":[(\"user\",\"Please write AWS lambda codes which can calculate the largest prime number less than 100. The output format of this AWS lambda function should look like {\\\"statusCode\\\":200,\\\"body\\\":PRIME_NUMBER}\")]}\n",
    "print_stream(agent.stream(inputs, stream_mode=\"values\"))"
   ]
  }
 ],
 "metadata": {
  "kernelspec": {
   "display_name": "Python 3 (ipykernel)",
   "language": "python",
   "name": "python3"
  },
  "language_info": {
   "codemirror_mode": {
    "name": "ipython",
    "version": 3
   },
   "file_extension": ".py",
   "mimetype": "text/x-python",
   "name": "python",
   "nbconvert_exporter": "python",
   "pygments_lexer": "ipython3",
   "version": "3.9.16"
  }
 },
 "nbformat": 4,
 "nbformat_minor": 5
}
