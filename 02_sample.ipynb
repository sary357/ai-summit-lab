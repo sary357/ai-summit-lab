{
 "cells": [
  {
   "cell_type": "code",
   "execution_count": 2,
   "id": "98afb285-2230-4214-867c-daa2c8a954fb",
   "metadata": {},
   "outputs": [
    {
     "data": {
      "text/plain": [
       "True"
      ]
     },
     "execution_count": 2,
     "metadata": {},
     "output_type": "execute_result"
    }
   ],
   "source": [
    "import os\n",
    "from dotenv import load_dotenv\n",
    "from langchain_openai import OpenAI\n",
    "from langchain.prompts import PromptTemplate\n",
    "load_dotenv()\n"
   ]
  },
  {
   "cell_type": "code",
   "execution_count": 3,
   "id": "d81e3220-4768-4183-92d8-fd8c70c820a2",
   "metadata": {},
   "outputs": [],
   "source": [
    "# ask Open AI a simple question like print out \"Hello world\""
   ]
  },
  {
   "cell_type": "code",
   "execution_count": 5,
   "id": "d270e5c0-d1fb-4cbf-a8f1-2e3dcb8677e6",
   "metadata": {},
   "outputs": [
    {
     "name": "stderr",
     "output_type": "stream",
     "text": [
      "/tmp/ipykernel_34811/1760113007.py:7: LangChainDeprecationWarning: The class `OpenAI` was deprecated in LangChain 0.0.10 and will be removed in 1.0. An updated version of the class exists in the :class:`~langchain-openai package and should be used instead. To use it run `pip install -U :class:`~langchain-openai` and import as `from :class:`~langchain_openai import OpenAI``.\n",
      "  llm = OpenAI()\n"
     ]
    },
    {
     "data": {
      "text/plain": [
       "\"\\n\\nI'm an AI, I don't have feelings. But thank you for asking! How can I assist you today?\""
      ]
     },
     "execution_count": 5,
     "metadata": {},
     "output_type": "execute_result"
    }
   ],
   "source": [
    "\n",
    "\n",
    "# 定义系统提示和用户提示\n",
    "system_prompt = \"You are the AWS lambda export and will generate codes that execute in AWS Lambda.\"\n",
    "user_prompt = \"Please print out Hello World in standard output.\"\n",
    "\n",
    "\n",
    "\n",
    "llm = OpenAI()\n",
    "\n",
    "llm.invoke(\"Hello how are you?\")"
   ]
  },
  {
   "cell_type": "code",
   "execution_count": null,
   "id": "19ed7b3c-d825-496c-94b0-8dee3ecd06bf",
   "metadata": {},
   "outputs": [],
   "source": []
  }
 ],
 "metadata": {
  "kernelspec": {
   "display_name": "Python 3 (ipykernel)",
   "language": "python",
   "name": "python3"
  },
  "language_info": {
   "codemirror_mode": {
    "name": "ipython",
    "version": 3
   },
   "file_extension": ".py",
   "mimetype": "text/x-python",
   "name": "python",
   "nbconvert_exporter": "python",
   "pygments_lexer": "ipython3",
   "version": "3.9.16"
  }
 },
 "nbformat": 4,
 "nbformat_minor": 5
}
