{
 "cells": [
  {
   "cell_type": "markdown",
   "id": "06a0c529-52d0-4e72-9bf0-41b78a47b702",
   "metadata": {},
   "source": [
    "# import necessary libaraies and prompts"
   ]
  },
  {
   "cell_type": "code",
   "execution_count": 14,
   "id": "af1eb37d-25aa-432f-9005-e09bbed90824",
   "metadata": {},
   "outputs": [],
   "source": [
    "import os\n",
    "from dotenv import load_dotenv\n",
    "from langchain_openai import ChatOpenAI\n",
    "from langchain_core.prompts import ChatPromptTemplate\n",
    "from langchain_core.output_parsers import StrOutputParser\n",
    "\n",
    "system_prompt = \"\"\"You are the AWS Lambda expert. You have to generate AWS Lambda codes with Python 3.11. \n",
    "When I ask you question, you have to provide 1. AWS Lambda codes and 2. requirements.txt which includes all necessary python libraries.\n",
    "Output format is :\n",
    "------------------------------\n",
    "{{AWS Lambda codes}}\n",
    "------------------------------\n",
    "{{requirements.txt}}\n",
    "------------------------------\n",
    "\"\"\"\n",
    "user_prompt = \"\"\"Please get the latest MSFT stock price\"\"\"\n",
    "\n",
    "load_dotenv()\n"
   ]
  },
  {
   "cell_type": "markdown",
   "id": "fdc54a17-53cd-4194-9e4f-2ef43773ddbf",
   "metadata": {},
   "source": [
    "# Call LLM and get the result back"
   ]
  },
  {
   "cell_type": "code",
   "execution_count": 19,
   "id": "cc9ee946-7aef-47d2-9e4c-02c18ea59ae0",
   "metadata": {},
   "outputs": [],
   "source": [
    "llm = ChatOpenAI(model=\"gpt-3.5-turbo\", temperature=0)\n",
    "prompt = ChatPromptTemplate.from_messages([\n",
    "    (\"system\", system_prompt),\n",
    "    (\"user\", \"{input}\")\n",
    "])\n",
    "output_parser = StrOutputParser()\n",
    "chain = prompt | llm | output_parser\n",
    "result=chain.invoke({\"input\": user_prompt})"
   ]
  },
  {
   "cell_type": "markdown",
   "id": "bf1cd829-2d51-4ea9-9f22-023db5e7b831",
   "metadata": {},
   "source": [
    "# Verify the result"
   ]
  },
  {
   "cell_type": "code",
   "execution_count": 15,
   "id": "034eb3fd-5037-4a81-9a9d-354b2620756a",
   "metadata": {},
   "outputs": [
    {
     "name": "stdout",
     "output_type": "stream",
     "text": [
      "------------------------------\n",
      "import requests\n",
      "\n",
      "def lambda_handler(event, context):\n",
      "    url = \"https://api.twelvedata.com/price?symbol=MSFT&apikey=YOUR_API_KEY\"\n",
      "    response = requests.get(url)\n",
      "    data = response.json()\n",
      "    \n",
      "    stock_price = data['price']\n",
      "    \n",
      "    return {\n",
      "        'statusCode': 200,\n",
      "        'body': f'The latest MSFT stock price is: {stock_price}'\n",
      "    }\n",
      "------------------------------\n",
      "requests\n",
      "------------------------------\n",
      "\n"
     ]
    }
   ],
   "source": [
    "print(result)"
   ]
  },
  {
   "cell_type": "code",
   "execution_count": 16,
   "id": "db3d45d6-3dfa-4b61-9710-f7e15f2808a0",
   "metadata": {},
   "outputs": [],
   "source": [
    "aws_lambda_codes=result.split(\"------------------------------\")[1]\n",
    "requirements_txt=result.split(\"------------------------------\")[2]"
   ]
  },
  {
   "cell_type": "code",
   "execution_count": 17,
   "id": "e3ac5d41-38bc-47d5-92f2-3c2e7b616a8f",
   "metadata": {},
   "outputs": [
    {
     "name": "stdout",
     "output_type": "stream",
     "text": [
      "\n",
      "import requests\n",
      "\n",
      "def lambda_handler(event, context):\n",
      "    url = \"https://api.twelvedata.com/price?symbol=MSFT&apikey=YOUR_API_KEY\"\n",
      "    response = requests.get(url)\n",
      "    data = response.json()\n",
      "    \n",
      "    stock_price = data['price']\n",
      "    \n",
      "    return {\n",
      "        'statusCode': 200,\n",
      "        'body': f'The latest MSFT stock price is: {stock_price}'\n",
      "    }\n",
      "\n"
     ]
    }
   ],
   "source": [
    "print(aws_lambda_codes)"
   ]
  },
  {
   "cell_type": "code",
   "execution_count": 18,
   "id": "e2ea1dca-3aae-4dcb-8c42-353bc75944ff",
   "metadata": {},
   "outputs": [
    {
     "name": "stdout",
     "output_type": "stream",
     "text": [
      "\n",
      "requests\n",
      "\n"
     ]
    }
   ],
   "source": [
    "print(requirements_txt)"
   ]
  },
  {
   "cell_type": "code",
   "execution_count": null,
   "id": "56b7aa3b-42da-4b17-a031-e42067f4af10",
   "metadata": {},
   "outputs": [],
   "source": []
  }
 ],
 "metadata": {
  "kernelspec": {
   "display_name": "Python 3 (ipykernel)",
   "language": "python",
   "name": "python3"
  },
  "language_info": {
   "codemirror_mode": {
    "name": "ipython",
    "version": 3
   },
   "file_extension": ".py",
   "mimetype": "text/x-python",
   "name": "python",
   "nbconvert_exporter": "python",
   "pygments_lexer": "ipython3",
   "version": "3.9.16"
  }
 },
 "nbformat": 4,
 "nbformat_minor": 5
}
